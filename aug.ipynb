{
  "cells": [
    {
      "cell_type": "code",
      "execution_count": null,
      "metadata": {
        "_cell_guid": "b1076dfc-b9ad-4769-8c92-a6c4dae69d19",
        "_uuid": "8f2839f25d086af736a60e9eeb907d3b93b6e0e5",
        "execution": {
          "iopub.execute_input": "2024-09-24T08:29:33.198539Z",
          "iopub.status.busy": "2024-09-24T08:29:33.19791Z",
          "iopub.status.idle": "2024-09-24T08:29:33.288702Z",
          "shell.execute_reply": "2024-09-24T08:29:33.287605Z",
          "shell.execute_reply.started": "2024-09-24T08:29:33.198488Z"
        },
        "id": "oT5VmI3gdiYD",
        "trusted": true
      },
      "outputs": [],
      "source": [
        "import pickle\n",
        "import tensorflow as tf\n",
        "with open('/kaggle/input/dataaaa/resnet_data.pkl', 'rb') as data_file:\n",
        "    data = pickle.load(data_file)\n",
        "\n",
        "with open('/kaggle/input/resnet-labels/resnet_labels.pkl', 'rb') as labels_file:\n",
        "    labels = pickle.load(labels_file)"
      ]
    },
    {
      "cell_type": "code",
      "execution_count": null,
      "metadata": {
        "execution": {
          "iopub.execute_input": "2024-09-24T09:27:14.271253Z",
          "iopub.status.busy": "2024-09-24T09:27:14.270866Z",
          "iopub.status.idle": "2024-09-24T09:27:14.278782Z",
          "shell.execute_reply": "2024-09-24T09:27:14.277716Z",
          "shell.execute_reply.started": "2024-09-24T09:27:14.271215Z"
        },
        "id": "Kz79Ws5_diYG",
        "outputId": "0c651afc-b6d9-4e0a-b49d-eb140dce91e1",
        "trusted": true
      },
      "outputs": [
        {
          "data": {
            "text/plain": [
              "(855, 20, 2048)"
            ]
          },
          "execution_count": 31,
          "metadata": {},
          "output_type": "execute_result"
        }
      ],
      "source": [
        "data[0].shape"
      ]
    },
    {
      "cell_type": "code",
      "execution_count": null,
      "metadata": {
        "execution": {
          "iopub.execute_input": "2024-09-24T09:26:34.219422Z",
          "iopub.status.busy": "2024-09-24T09:26:34.218568Z",
          "iopub.status.idle": "2024-09-24T09:26:34.444096Z",
          "shell.execute_reply": "2024-09-24T09:26:34.443113Z",
          "shell.execute_reply.started": "2024-09-24T09:26:34.219383Z"
        },
        "id": "2bjvaFgIdiYG",
        "outputId": "44d33fee-d186-46a3-d2a5-eedf8fc74990",
        "trusted": true
      },
      "outputs": [
        {
          "name": "stdout",
          "output_type": "stream",
          "text": [
            "Augmented frame features shape: (855, 20, 2048)\n",
            "Augmented frame masks shape: (855, 20)\n",
            "Augmented labels shape: (855, 1)\n"
          ]
        }
      ],
      "source": [
        "import numpy as np\n",
        "\n",
        "frame_features = data[0]\n",
        "frame_masks = data[1]\n",
        "labels = labels\n",
        "\n",
        "# Parameters for augmentation\n",
        "horizontal_flip = True\n",
        "brightness_range = 0.2  # Adjust brightness by ±20%\n",
        "\n",
        "# Lists to store augmented data\n",
        "augmented_features = []\n",
        "augmented_masks = []\n",
        "augmented_labels = []\n",
        "\n",
        "# Loop through videos\n",
        "for idx in range(len(frame_features)):\n",
        "    # Get the current video's features, masks, and label\n",
        "    current_features = frame_features[idx]\n",
        "    current_masks = frame_masks[idx]\n",
        "    current_label = labels[idx]\n",
        "\n",
        "    # Horizontal Flip\n",
        "    if horizontal_flip and np.random.rand() < 0.5:  # 50% chance to flip\n",
        "        current_features = np.flip(current_features, axis=1)  # Flip horizontally\n",
        "\n",
        "    # Brightness Adjustment (this might need to be adapted based on the nature of features)\n",
        "    brightness_factor = np.random.uniform(1 - brightness_range, 1 + brightness_range)\n",
        "    current_features = np.clip(current_features * brightness_factor, 0, 255)  # Adjust brightness\n",
        "\n",
        "    # Append the augmented data\n",
        "    augmented_features.append(current_features)\n",
        "    augmented_masks.append(current_masks)\n",
        "    augmented_labels.append(current_label)\n",
        "\n",
        "# Convert augmented lists to NumPy arrays\n",
        "augmented_features = np.array(augmented_features)\n",
        "augmented_masks = np.array(augmented_masks)\n",
        "augmented_labels = np.array(augmented_labels)\n",
        "\n",
        "# Output the shapes of the augmented data\n",
        "print(f\"Augmented frame features shape: {augmented_features.shape}\")\n",
        "print(f\"Augmented frame masks shape: {augmented_masks.shape}\")\n",
        "print(f\"Augmented labels shape: {augmented_labels.shape}\")\n"
      ]
    },
    {
      "cell_type": "code",
      "execution_count": null,
      "metadata": {
        "execution": {
          "iopub.execute_input": "2024-09-24T09:32:45.544101Z",
          "iopub.status.busy": "2024-09-24T09:32:45.54344Z",
          "iopub.status.idle": "2024-09-24T09:32:45.769328Z",
          "shell.execute_reply": "2024-09-24T09:32:45.768549Z",
          "shell.execute_reply.started": "2024-09-24T09:32:45.544061Z"
        },
        "id": "jxQTqIq5diYH",
        "trusted": true
      },
      "outputs": [],
      "source": [
        "with open('augmented_data.pkl', 'wb') as f:\n",
        "    pickle.dump((augmented_features, augmented_masks), f)\n",
        "\n",
        "with open('augmented_labels.pkl', 'wb') as f:\n",
        "    pickle.dump(augmented_labels, f)"
      ]
    }
  ],
  "metadata": {
    "colab": {
      "name": "notebookc139dd9eb8",
      "provenance": []
    },
    "kaggle": {
      "accelerator": "nvidiaTeslaT4",
      "dataSources": [
        {
          "datasetId": 5757819,
          "sourceId": 9468776,
          "sourceType": "datasetVersion"
        },
        {
          "datasetId": 5754017,
          "sourceId": 9463642,
          "sourceType": "datasetVersion"
        }
      ],
      "dockerImageVersionId": 30762,
      "isGpuEnabled": true,
      "isInternetEnabled": true,
      "language": "python",
      "sourceType": "notebook"
    },
    "kernelspec": {
      "display_name": "Python 3",
      "language": "python",
      "name": "python3"
    },
    "language_info": {
      "codemirror_mode": {
        "name": "ipython",
        "version": 3
      },
      "file_extension": ".py",
      "mimetype": "text/x-python",
      "name": "python",
      "nbconvert_exporter": "python",
      "pygments_lexer": "ipython3",
      "version": "3.10.14"
    }
  },
  "nbformat": 4,
  "nbformat_minor": 0
}
